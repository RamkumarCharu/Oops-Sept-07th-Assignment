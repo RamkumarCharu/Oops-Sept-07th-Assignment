{
 "cells": [
  {
   "cell_type": "code",
   "execution_count": 131,
   "metadata": {},
   "outputs": [
    {
     "name": "stdout",
     "output_type": "stream",
     "text": [
      "Your Account Nnumber is 36522429\n",
      "Name on the Account: John Baby\n",
      "Your balacne is ₹29,232.90\n"
     ]
    }
   ],
   "source": [
    "#Problem 1: Bank Account Create a class representing a bank account with attributes like account number, \n",
    "# account holder name, and balance. Implement methods to deposit and withdraw money from the account.\n",
    "import random\n",
    "class account():\n",
    "    def __init__(self):\n",
    "        self.account_balance = 29232.90\n",
    "        self.curr=u\"\\u20B9\"\n",
    "    def acc_number(self):\n",
    "        print(f'Your Account Nnumber is {random.randrange(1, 10**8):03}')\n",
    "    def acc_holder_name(self):\n",
    "        first_names=('Ram','Shyam','John')\n",
    "        last_names=('Kumar','Babu','Doe')\n",
    "        Name=\" \".join(random.choice(first_names)+\" \"+random.choice(last_names) for _ in range(1))\n",
    "        print(f'Name on the Account: {Name}')\n",
    "    def add_withdraw(self,amount,action):\n",
    "        integer_part = random.randint(100, 9999)\n",
    "        decimal_part = round(random.uniform(0, 0.99), 2)\n",
    "        \n",
    "        ammount = f\"{integer_part:03}{decimal_part:.2f}\"\n",
    "        if action == 'deposit':\n",
    "            ammount = self.curr+\"{:,.2f}\".format(float(self.account_balance)+float(amount)) \n",
    "            self.account_balance=ammount\n",
    "            print(f'Your New Balance {ammount}')\n",
    "        elif action == 'withdraw':\n",
    "            ammount = self.curr+\"{:,.2f}\".format(float(self.account_balance)-float(amount))\n",
    "            if ammount<=0:\n",
    "                print(f'Cannot Withdraw.. Available balance is only {ammount}')\n",
    "                self.account_balance=ammount\n",
    "            else :  \n",
    "                print(f'Your New Balance {ammount}')\n",
    "        else:\n",
    "            print('Choose either deposit or withdraw..!')\n",
    "    def check_balance(self):\n",
    "        print(f'Your balacne is {self.curr+\"{:,.2f}\".format(float(self.account_balance))}')\n",
    "        \n",
    "a=account()\n",
    "a.acc_number()\n",
    "a.acc_holder_name()\n",
    "class account_holder(account):\n",
    "    def deposit(self):\n",
    "        amt_to_deposit = input('Enter amount you wish to deposit : ')\n",
    "        a.add_withdraw(amt_to_deposit,'deposit')\n",
    "    def withdraw(self):\n",
    "        amt_to_withdraw = input('Enter amount to withdraw : ')\n",
    "        a.add_withdraw(amt_to_withdraw,'withdraw')\n",
    "    \n",
    "b=account_holder()\n",
    "action = input(\"\"\"Choose your Action \n",
    "               1. Deposit\n",
    "               2. Withdraw\n",
    "               3. Check Balance : \"\"\")\n",
    "if action == '1':\n",
    "    b.deposit()\n",
    "elif action == '2':\n",
    "    b.withdraw()\n",
    "elif action == '3':\n",
    "    a.check_balance()\n",
    "else:\n",
    "    print('Invalid Option..!')\n",
    "    "
   ]
  },
  {
   "cell_type": "code",
   "execution_count": 169,
   "metadata": {},
   "outputs": [
    {
     "name": "stdout",
     "output_type": "stream",
     "text": [
      "Employee Name    : John Doe\n",
      "Employee Number  : 9138\n",
      "Employee Salary  : 94420.40\n",
      "Bonus for emp for the year is 9442.039999999999\n"
     ]
    }
   ],
   "source": [
    "#Problem 2: Employee Management Create a class representing an employee with attributes like \n",
    "#employee ID, name, and salary. \n",
    "#Implement methods to calculate the yearly bonus and display employee details.\n",
    "\n",
    "class employee():\n",
    "    def __init__(self):\n",
    "        self.salary = f\"{random.randint(100, 9999):03}{round(random.uniform(0, 0.99), 2):.2f}\"\n",
    "        self.curr=u\"\\u20B9\"\n",
    "    \n",
    "    def employee_details(self):\n",
    "        first_names=('Ram','Shyam','John')\n",
    "        last_names=('Kumar','Babu','Doe')\n",
    "        Name=\" \".join(random.choice(first_names)+\" \"+random.choice(last_names) for _ in range(1))\n",
    "        emp_number = random.randint(100, 9999)\n",
    "        integer_part = random.randint(100, 9999)\n",
    "        decimal_part = round(random.uniform(0, 0.99), 2)\n",
    "        \n",
    "        \n",
    "        print(f'Employee Name    : {Name}')\n",
    "        print(f'Employee Number  : {emp_number}')\n",
    "        print(f'Employee Salary  : {self.salary}')\n",
    "emp=employee()\n",
    "class hr(employee):\n",
    "    def __init__(self):\n",
    "        super().__init__()  # Call the constructor of the parent class\n",
    "        self.bonus_percentage = 10\n",
    "    \n",
    "    def calc_bonus(self):\n",
    "        bonus =   float(self.salary) /  self.bonus_percentage \n",
    "        print(f'Bonus for emp for the year is {bonus}')\n",
    "hr=hr()     \n",
    "hr.employee_details()\n",
    "hr.calc_bonus()"
   ]
  },
  {
   "cell_type": "code",
   "execution_count": null,
   "metadata": {},
   "outputs": [],
   "source": [
    "#Problem 3: Vehicle Rental Create a class representing a vehicle rental system. Implement methods \n",
    "#           to rent a vehicle, return a vehicle, and display available vehicles."
   ]
  }
 ],
 "metadata": {
  "language_info": {
   "name": "python"
  },
  "orig_nbformat": 4
 },
 "nbformat": 4,
 "nbformat_minor": 2
}
