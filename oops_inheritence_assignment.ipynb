{
 "cells": [
  {
   "cell_type": "code",
   "execution_count": 131,
   "metadata": {},
   "outputs": [
    {
     "name": "stdout",
     "output_type": "stream",
     "text": [
      "Your Account Nnumber is 36522429\n",
      "Name on the Account: John Baby\n",
      "Your balacne is ₹29,232.90\n"
     ]
    }
   ],
   "source": [
    "#Problem 1: Bank Account Create a class representing a bank account with attributes like account number, \n",
    "# account holder name, and balance. Implement methods to deposit and withdraw money from the account.\n",
    "import random\n",
    "class account():\n",
    "    def __init__(self):\n",
    "        self.account_balance = 29232.90\n",
    "        self.curr=u\"\\u20B9\"\n",
    "    def acc_number(self):\n",
    "        print(f'Your Account Nnumber is {random.randrange(1, 10**8):03}')\n",
    "    def acc_holder_name(self):\n",
    "        first_names=('Ram','Shyam','John')\n",
    "        last_names=('Kumar','Babu','Doe')\n",
    "        Name=\" \".join(random.choice(first_names)+\" \"+random.choice(last_names) for _ in range(1))\n",
    "        print(f'Name on the Account: {Name}')\n",
    "    def add_withdraw(self,amount,action):\n",
    "        integer_part = random.randint(100, 9999)\n",
    "        decimal_part = round(random.uniform(0, 0.99), 2)\n",
    "        \n",
    "        ammount = f\"{integer_part:03}{decimal_part:.2f}\"\n",
    "        if action == 'deposit':\n",
    "            ammount = self.curr+\"{:,.2f}\".format(float(self.account_balance)+float(amount)) \n",
    "            self.account_balance=ammount\n",
    "            print(f'Your New Balance {ammount}')\n",
    "        elif action == 'withdraw':\n",
    "            ammount = self.curr+\"{:,.2f}\".format(float(self.account_balance)-float(amount))\n",
    "            if ammount<=0:\n",
    "                print(f'Cannot Withdraw.. Available balance is only {ammount}')\n",
    "                self.account_balance=ammount\n",
    "            else :  \n",
    "                print(f'Your New Balance {ammount}')\n",
    "        else:\n",
    "            print('Choose either deposit or withdraw..!')\n",
    "    def check_balance(self):\n",
    "        print(f'Your balacne is {self.curr+\"{:,.2f}\".format(float(self.account_balance))}')\n",
    "        \n",
    "a=account()\n",
    "a.acc_number()\n",
    "a.acc_holder_name()\n",
    "class account_holder(account):\n",
    "    def deposit(self):\n",
    "        amt_to_deposit = input('Enter amount you wish to deposit : ')\n",
    "        a.add_withdraw(amt_to_deposit,'deposit')\n",
    "    def withdraw(self):\n",
    "        amt_to_withdraw = input('Enter amount to withdraw : ')\n",
    "        a.add_withdraw(amt_to_withdraw,'withdraw')\n",
    "    \n",
    "b=account_holder()\n",
    "action = input(\"\"\"Choose your Action.. Enter 1 or 2 or 3 \n",
    "               1. Deposit\n",
    "               2. Withdraw\n",
    "               3. Check Balance : \"\"\")\n",
    "if action == '1' or action.lower() =='deposit':\n",
    "    b.deposit()\n",
    "elif action == '2' or action.lower() =='withdraw':\n",
    "    b.withdraw()\n",
    "elif action == '3' or action.lower() =='check balance':\n",
    "    a.check_balance()\n",
    "else:\n",
    "    print('Invalid Option..!')\n",
    "    "
   ]
  },
  {
   "cell_type": "code",
   "execution_count": 169,
   "metadata": {},
   "outputs": [
    {
     "name": "stdout",
     "output_type": "stream",
     "text": [
      "Employee Name    : John Doe\n",
      "Employee Number  : 9138\n",
      "Employee Salary  : 94420.40\n",
      "Bonus for emp for the year is 9442.039999999999\n"
     ]
    }
   ],
   "source": [
    "#Problem 2: Employee Management Create a class representing an employee with attributes like \n",
    "#employee ID, name, and salary. \n",
    "#Implement methods to calculate the yearly bonus and display employee details.\n",
    "\n",
    "class employee():\n",
    "    def __init__(self):\n",
    "        self.salary = f\"{random.randint(100, 9999):03}{round(random.uniform(0, 0.99), 2):.2f}\"\n",
    "        self.curr=u\"\\u20B9\"\n",
    "    \n",
    "    def employee_details(self):\n",
    "        first_names=('Ram','Shyam','John')\n",
    "        last_names=('Kumar','Babu','Doe')\n",
    "        Name=\" \".join(random.choice(first_names)+\" \"+random.choice(last_names) for _ in range(1))\n",
    "        emp_number = random.randint(100, 9999)\n",
    "        integer_part = random.randint(100, 9999)\n",
    "        decimal_part = round(random.uniform(0, 0.99), 2)\n",
    "        \n",
    "        \n",
    "        print(f'Employee Name    : {Name}')\n",
    "        print(f'Employee Number  : {emp_number}')\n",
    "        print(f'Employee Salary  : {self.salary}')\n",
    "emp=employee()\n",
    "class hr(employee):\n",
    "    def __init__(self):\n",
    "        super().__init__()  # Call the constructor of the parent class\n",
    "        self.bonus_percentage = 10\n",
    "    \n",
    "    def calc_bonus(self):\n",
    "        bonus =   float(self.salary) /  self.bonus_percentage \n",
    "        print(f'Bonus for emp for the year is {bonus}')\n",
    "hr=hr()     \n",
    "hr.employee_details()\n",
    "hr.calc_bonus()"
   ]
  },
  {
   "cell_type": "code",
   "execution_count": 179,
   "metadata": {},
   "outputs": [
    {
     "name": "stdout",
     "output_type": "stream",
     "text": [
      "available vehicals are ['car', 'bike', 'cycle', 'scooter']\n",
      "available vehicals are \n",
      "car\n",
      "bike\n",
      "cycle\n",
      "scooter\n",
      "You have rented a car\n",
      "You have rented a car\n"
     ]
    }
   ],
   "source": [
    "#Problem 3: Vehicle Rental Create a class representing a vehicle rental system. Implement methods \n",
    "#           to rent a vehicle, return a vehicle, and display available vehicles.\n",
    "\n",
    "class retnal_agency():\n",
    "    def vehicles_available(self):\n",
    "        return ['car','bike','cycle','scooter']\n",
    "\n",
    "v=retnal_agency()\n",
    "class customer(retnal_agency):\n",
    "    def rent_a_vehical(self,vehical_type):\n",
    "        print(f'You have rented a {vehical_type}')\n",
    "    def return_a_vehical(self,vehical_type):\n",
    "        print(f'You have returned a {vehical_type}')\n",
    "    def check_availbale_vehicals(self):\n",
    "        for i in v.vehicles_available():\n",
    "            print(i)\n",
    "c=customer()\n",
    "\n",
    "print(f'available vehicals are {v.vehicles_available()}') \n",
    "print(f'available vehicals are ')\n",
    "c.check_availbale_vehicals() \n",
    "\n",
    "c.rent_a_vehical('car')\n",
    "c.rent_a_vehical('car')"
   ]
  },
  {
   "cell_type": "code",
   "execution_count": 8,
   "metadata": {},
   "outputs": [
    {
     "name": "stdout",
     "output_type": "stream",
     "text": [
      "available books are\n",
      "['Rich Dad, Poor Dad', 'Ravana', 'Shiva Triology']\n",
      "you borrowed the book Ravana\n",
      "available books are\n",
      "['Rich Dad, Poor Dad', 'Ravana', 'Shiva Triology']\n"
     ]
    }
   ],
   "source": [
    "#Problem 4: Library Catalog Create classes representing a library and a book. \n",
    "#           Implement methods to add books to the library, borrow books, \n",
    "#           and display available books.\n",
    "\n",
    "class library():\n",
    "    def __init__(self) :\n",
    "        self.available_books=['Rich Dad, Poor Dad','Ravana','Shiva Triology']\n",
    "    \n",
    "    def available_books(self):\n",
    "        \n",
    "        return self.available_books\n",
    "    \n",
    "lib = library()\n",
    "class book(library):\n",
    "    def borrow_books(self,book_n):\n",
    "        if book_n in self.available_books:\n",
    "            print(f'you borrowed the book {book_n}')\n",
    "            self.available_books.remove(book_n)\n",
    "        else: \n",
    "            print(f'book not availbale')\n",
    "            \n",
    "    def get_available_books(self):\n",
    "        print(f'available books are')\n",
    "        print(lib.available_books)\n",
    "        #for i in self.available_books:\n",
    "        #    print(i)\n",
    "book = book()\n",
    "book.get_available_books()\n",
    "book.borrow_books('Ravana')\n",
    "book.get_available_books()\n"
   ]
  },
  {
   "cell_type": "code",
   "execution_count": 55,
   "metadata": {},
   "outputs": [
    {
     "name": "stdout",
     "output_type": "stream",
     "text": [
      "available products are \n",
      "{'prod1': 1, 'prod2': 2, 'prod3': 3, 'prod4': 4}\n",
      "Inventory after adding a product \n",
      "{'prod1': 1, 'prod2': 2, 'prod3': 3, 'prod4': 4, 'prod5': 5}\n",
      "Inventory after updating quantity of a product \n",
      "{'prod1': 5, 'prod2': 2, 'prod3': 3, 'prod4': 4, 'prod5': 5}\n"
     ]
    }
   ],
   "source": [
    "# Problem 5: Product Inventory Create classes representing a product and an inventory system. \n",
    "# Implement methods to add products to the inventory, update product quantity, \n",
    "# and display available products.\n",
    "\n",
    "class inventory():\n",
    "    def __init__(self) -> None:\n",
    "        self.inventory = {'prod1':1,'prod2':2,'prod3':3,'prod4':4}\n",
    "\n",
    "    def inventory1(self):\n",
    "        ##for key, value in self.invet.items():\n",
    "        #    yield key,value\n",
    "        return self.inventory\n",
    "\n",
    "inv = inventory()\n",
    "class product(inventory):\n",
    "    def add_product(self,**kwargs):\n",
    "        for key, value in kwargs.items():\n",
    "            self.inventory[key]=value\n",
    "        return (self.inventory)\n",
    "\n",
    "    def update_quant(self,**args):\n",
    "        for key,value in args.items():\n",
    "            self.inventory[key] = value\n",
    "        return self.inventory\n",
    "p = product()\n",
    "print(f'available products are \\n{inv.inventory}')\n",
    "print(f'Inventory after adding a product \\n{p.add_product(prod5=5)}')\n",
    "print(f'Inventory after updating quantity of a product \\n{p.update_quant(prod1=5)}')\n"
   ]
  },
  {
   "cell_type": "code",
   "execution_count": 71,
   "metadata": {},
   "outputs": [
    {
     "name": "stdout",
     "output_type": "stream",
     "text": [
      "area of rectangle is 15\n",
      "area of cuboid is 52\n"
     ]
    }
   ],
   "source": [
    "# Problem 6: Shape Calculation Create a class representing a shape with attributes \n",
    "# like length, width, and height. \n",
    "# Implement methods to calculate the area and perimeter of the shape.\n",
    "\n",
    "class shape():\n",
    "    def __init__(self,shape,l,w,h,r):\n",
    "        self.shape=shape\n",
    "        self.l = l\n",
    "        self.w = w\n",
    "        self.h = h\n",
    "        self.r = r\n",
    "        self.pi = 3.14\n",
    "    def calc_area(self):\n",
    "        if self.shape.lower() == 'rectangle':\n",
    "            return self.l * self.w \n",
    "        elif self.shape == 'cuboid':\n",
    "            return 2 * (self.l * self.w + self.w * self.h + self.h * self.l)\n",
    "        elif self.shape.lower() == 'square':\n",
    "            return self.l * 4\n",
    "        elif self.shape.lower() == 'circle':\n",
    "            return self.pi*self.r*self.r \n",
    "        else:\n",
    "            return 0\n",
    "\n",
    "# Example usage:\n",
    "rectangle = shape('rectangle', 5, 3, 0,0)\n",
    "area_rect = rectangle.calc_area()\n",
    "cuboid = shape('cuboid', 4, 2, 3,0)\n",
    "cub_area = cuboid.calc_area()\n",
    "print(f'area of rectangle is {area_rect}')\n",
    "print(f'area of cuboid is {cub_area}')"
   ]
  },
  {
   "cell_type": "code",
   "execution_count": null,
   "metadata": {},
   "outputs": [],
   "source": [
    "# Problem 7: Student Management Create a class representing a student with attributes \n",
    "# like student ID, name, and grades. Implement methods to calculate the average grade \n",
    "# and display student details.\n",
    "\n",
    "\n"
   ]
  }
 ],
 "metadata": {
  "kernelspec": {
   "display_name": "mycondaenv",
   "language": "python",
   "name": "python3"
  },
  "language_info": {
   "name": "python",
   "version": "3.10.12"
  },
  "orig_nbformat": 4,
  "vscode": {
   "interpreter": {
    "hash": "88933ef7c440b19f2662abe4de92230cd20e999d219e468ad8636b776314f54a"
   }
  }
 },
 "nbformat": 4,
 "nbformat_minor": 2
}
